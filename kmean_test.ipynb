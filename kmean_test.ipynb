{
 "cells": [
  {
   "cell_type": "markdown",
   "source": [
    "# Example of Kmeans for SAMPLE_SIZE molecules and molecules with size MOL_SIZE_OF_INTEREST"
   ],
   "metadata": {
    "collapsed": false,
    "pycharm": {
     "name": "#%% md\n"
    }
   }
  },
  {
   "cell_type": "code",
   "execution_count": 47,
   "outputs": [],
   "source": [
    "import os.path\n",
    "from decimal import Decimal\n",
    "from rdkit import Chem\n",
    "from rdkit import RDLogger\n",
    "import numpy as np\n",
    "import random\n",
    "import matplotlib.pyplot as plt\n",
    "import seaborn\n",
    "import pickle\n",
    "import os\n",
    "import sklearn\n",
    "RDLogger.DisableLog('rdApp.*')\n",
    "from sklearn.cluster import KMeans\n",
    "from sklearn.metrics import pairwise_distances_argmin"
   ],
   "metadata": {
    "collapsed": false,
    "pycharm": {
     "name": "#%%\n"
    }
   }
  },
  {
   "cell_type": "markdown",
   "source": [
    "## SET CONSTANTS"
   ],
   "metadata": {
    "collapsed": false,
    "pycharm": {
     "name": "#%% md\n"
    }
   }
  },
  {
   "cell_type": "code",
   "execution_count": 48,
   "outputs": [],
   "source": [
    "DATA_FOLDER = '/home/artem/dataset_gdb17'\n",
    "SAMPLE_SIZE = 100000  #<-- data set size\n",
    "MOL_SIZE_OF_INTEREST = 17  # number of atoms\n",
    "#DATA_FILE_NAME = 'GDB17.50000000.smi'\n",
    "DATA_FILE_NAME = str(MOL_SIZE_OF_INTEREST) + '.smi'\n",
    "DATA_PATH =  DATA_FOLDER + '/' + str(SAMPLE_SIZE) + '/' + DATA_FILE_NAME\n",
    "\n",
    "_N_CLUSTERS = 100  # we want 100 mols. Not more, not fewer --> 'protected'\n",
    "METRICS = 'euclidean'\n"
   ],
   "metadata": {
    "collapsed": false,
    "pycharm": {
     "name": "#%%\n"
    }
   }
  },
  {
   "cell_type": "code",
   "execution_count": 49,
   "metadata": {
    "collapsed": true,
    "pycharm": {
     "name": "#%%\n"
    }
   },
   "outputs": [],
   "source": [
    "#estimates exe time\n",
    "def timeit(fn):\n",
    "    \"\"\"\n",
    "    measures execution time. used as decorator\n",
    "    @rtype: object\n",
    "    \"\"\"\n",
    "    from time import perf_counter\n",
    "    from functools import wraps\n",
    "\n",
    "    @wraps(fn)\n",
    "    def inner(*args, **kwargs):\n",
    "        start = perf_counter()\n",
    "        result = fn(*args, **kwargs)\n",
    "        end = perf_counter()\n",
    "        elapsed = end - start\n",
    "\n",
    "        args_ = [str(a) for a in args]\n",
    "        kwargs_ = ['{0}={1}'.format(k, v) for (k, v) in kwargs.items()]\n",
    "        all_args = args_ + kwargs_\n",
    "        args_str = ','.join(all_args)\n",
    "        # print('{0}({1}) took {2:.6f}s to run.'.format(fn.__name__,\n",
    "        #                                               args_str,\n",
    "        #                                               elapsed))\n",
    "        print('{0} took {1:.6f}s to run.'.format(fn.__name__, elapsed))\n",
    "        return result\n",
    "\n",
    "    return inner"
   ]
  },
  {
   "cell_type": "markdown",
   "source": [
    "## DATA"
   ],
   "metadata": {
    "collapsed": false
   }
  },
  {
   "cell_type": "code",
   "execution_count": 50,
   "outputs": [
    {
     "data": {
      "text/plain": "'/home/artem/dataset_gdb17/100000/17.smi'"
     },
     "execution_count": 50,
     "metadata": {},
     "output_type": "execute_result"
    }
   ],
   "source": [
    "DATA_PATH"
   ],
   "metadata": {
    "collapsed": false,
    "pycharm": {
     "name": "#%%\n"
    }
   }
  },
  {
   "cell_type": "markdown",
   "source": [
    "## LOAD DATA\n"
   ],
   "metadata": {
    "collapsed": false,
    "pycharm": {
     "name": "#%% md\n"
    }
   }
  },
  {
   "cell_type": "code",
   "execution_count": 51,
   "outputs": [
    {
     "data": {
      "text/plain": "['C#Cc1c(OC=NC)[nH]c(=N)c(NCC)c1N',\n 'C#CC1C(N)CC2OC(C)C(C)(N)C2C1CO',\n 'CC1N=C2N3C4C5C4C(CC5C13C#N)S2(=O)=O']"
     },
     "execution_count": 51,
     "metadata": {},
     "output_type": "execute_result"
    }
   ],
   "source": [
    "suppl = Chem.SmilesMolSupplier(DATA_PATH)\n",
    "smiles_list = [Chem.MolToSmiles(m) for m in suppl]\n",
    "smiles_list[0:3]\n",
    "# smiles_list is our raw data. now we need to convert them into some representation"
   ],
   "metadata": {
    "collapsed": false,
    "pycharm": {
     "name": "#%%\n"
    }
   }
  },
  {
   "cell_type": "markdown",
   "source": [
    "## GET FEATURES FOR EVERY MOLECULE\n"
   ],
   "metadata": {
    "collapsed": false,
    "pycharm": {
     "name": "#%% md\n"
    }
   }
  },
  {
   "cell_type": "code",
   "execution_count": 52,
   "outputs": [],
   "source": [
    "features = [Chem.RDKFingerprint(m) for m in suppl]"
   ],
   "metadata": {
    "collapsed": false,
    "pycharm": {
     "name": "#%%\n"
    }
   }
  },
  {
   "cell_type": "code",
   "execution_count": 53,
   "outputs": [],
   "source": [
    "fp_array = np.array([[int(i) for i in Chem.RDKFingerprint(m).ToBitString()] for m in suppl], dtype=int)"
   ],
   "metadata": {
    "collapsed": false,
    "pycharm": {
     "name": "#%%\n"
    }
   }
  },
  {
   "cell_type": "code",
   "execution_count": 54,
   "outputs": [
    {
     "data": {
      "text/plain": "array([[1, 0, 1, ..., 1, 1, 1],\n       [1, 0, 0, ..., 0, 1, 1],\n       [1, 0, 1, ..., 0, 0, 1],\n       ...,\n       [1, 0, 1, ..., 0, 0, 1],\n       [1, 0, 0, ..., 0, 0, 1],\n       [0, 1, 1, ..., 0, 1, 1]])"
     },
     "execution_count": 54,
     "metadata": {},
     "output_type": "execute_result"
    }
   ],
   "source": [
    "fp_array"
   ],
   "metadata": {
    "collapsed": false,
    "pycharm": {
     "name": "#%%\n"
    }
   }
  },
  {
   "cell_type": "markdown",
   "source": [
    "## KMEANS"
   ],
   "metadata": {
    "collapsed": false,
    "pycharm": {
     "name": "#%% md\n"
    }
   }
  },
  {
   "cell_type": "code",
   "execution_count": 55,
   "outputs": [
    {
     "name": "stdout",
     "output_type": "stream",
     "text": [
      "returns_kmeans took 594.096937s to run.\n"
     ]
    }
   ],
   "source": [
    "@timeit\n",
    "def returns_kmeans(n_clusters, fp_array):\n",
    "    return KMeans(n_clusters=_N_CLUSTERS).fit(X=fp_array)\n",
    "\n",
    "kmeans = returns_kmeans(n_clusters=_N_CLUSTERS, fp_array=fp_array)"
   ],
   "metadata": {
    "collapsed": false,
    "pycharm": {
     "name": "#%%\n"
    }
   }
  },
  {
   "cell_type": "code",
   "execution_count": 56,
   "outputs": [
    {
     "data": {
      "text/plain": "array([[0.24373119, 0.31594784, 0.62688064, ..., 0.22567703, 0.34804413,\n        0.92577733],\n       [0.60503145, 0.08301887, 0.68050314, ..., 0.06792453, 0.13836478,\n        1.        ],\n       [0.26278837, 0.67101304, 0.8114343 , ..., 0.00601805, 0.83650953,\n        1.        ],\n       ...,\n       [0.30267857, 0.1125    , 0.25535714, ..., 0.04553571, 0.14732143,\n        1.        ],\n       [0.65355191, 0.42622951, 0.4557377 , ..., 0.63606557, 0.60655738,\n        0.99672131],\n       [0.19298246, 0.36682616, 0.65709729, ..., 0.22328549, 0.24561404,\n        1.        ]])"
     },
     "execution_count": 56,
     "metadata": {},
     "output_type": "execute_result"
    }
   ],
   "source": [
    "kmeans.labels_\n",
    "\n",
    "kmeans.cluster_centers_"
   ],
   "metadata": {
    "collapsed": false,
    "pycharm": {
     "name": "#%%\n"
    }
   }
  },
  {
   "cell_type": "code",
   "execution_count": 57,
   "outputs": [],
   "source": [
    "central_mol_ids = pairwise_distances_argmin(X=kmeans.cluster_centers_, Y=fp_array, metric=METRICS)"
   ],
   "metadata": {
    "collapsed": false,
    "pycharm": {
     "name": "#%% return closest to the center\n"
    }
   }
  },
  {
   "cell_type": "markdown",
   "source": [
    "## SAVE"
   ],
   "metadata": {
    "collapsed": false,
    "pycharm": {
     "name": "#%% md\n"
    }
   }
  },
  {
   "cell_type": "code",
   "execution_count": 58,
   "outputs": [
    {
     "name": "stdout",
     "output_type": "stream",
     "text": [
      "['CCCOCCC(C)CCCOCC(O)CN', 'CC(N)CCC(C)C1C(C)N=C(N)C(C)C1O']\n",
      "I am done\n"
     ]
    }
   ],
   "source": [
    "# - as a list of mol idx\n",
    "fname_wo_extension =f'{DATA_FOLDER}/{str(SAMPLE_SIZE)}/{MOL_SIZE_OF_INTEREST}_{METRICS}'\n",
    "np.savetxt(f'{fname_wo_extension}.txt', central_mol_ids, fmt='%i')\n",
    "# - as smiles\n",
    "list_of_central_smiles = [Chem.MolToSmiles(suppl[int(mol_id)]) for mol_id in central_mol_ids]\n",
    "print(list_of_central_smiles[0:2])\n",
    "list_of_central_smiles\n",
    "\n",
    "current_path = f'{fname_wo_extension}.smi'\n",
    "with Chem.SmilesWriter(current_path) as w:\n",
    "    for mol_id in central_mol_ids:\n",
    "        w.write(suppl[int(mol_id)])\n",
    "print('I am done')"
   ],
   "metadata": {
    "collapsed": false,
    "pycharm": {
     "name": "#%%\n"
    }
   }
  },
  {
   "cell_type": "code",
   "execution_count": 58,
   "outputs": [],
   "source": [],
   "metadata": {
    "collapsed": false,
    "pycharm": {
     "name": "#%%\n"
    }
   }
  }
 ],
 "metadata": {
  "kernelspec": {
   "name": "my-rdkit-env-new",
   "language": "python",
   "display_name": "my-rdkit-env-new"
  },
  "language_info": {
   "codemirror_mode": {
    "name": "ipython",
    "version": 2
   },
   "file_extension": ".py",
   "mimetype": "text/x-python",
   "name": "python",
   "nbconvert_exporter": "python",
   "pygments_lexer": "ipython2",
   "version": "2.7.6"
  }
 },
 "nbformat": 4,
 "nbformat_minor": 0
}