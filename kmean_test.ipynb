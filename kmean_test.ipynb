{
 "cells": [
  {
   "cell_type": "code",
   "execution_count": 29,
   "outputs": [],
   "source": [
    "import os.path\n",
    "from decimal import Decimal\n",
    "from rdkit import Chem\n",
    "from rdkit import RDLogger\n",
    "import numpy as np\n",
    "import random\n",
    "import matplotlib.pyplot as plt\n",
    "import seaborn\n",
    "import pickle\n",
    "import os\n",
    "import sklearn\n",
    "RDLogger.DisableLog('rdApp.*')\n",
    "from sklearn.cluster import KMeans"
   ],
   "metadata": {
    "collapsed": false,
    "pycharm": {
     "name": "#%%\n"
    }
   }
  },
  {
   "cell_type": "markdown",
   "source": [
    "## SET CONSTANTS"
   ],
   "metadata": {
    "collapsed": false,
    "pycharm": {
     "name": "#%% md\n"
    }
   }
  },
  {
   "cell_type": "code",
   "execution_count": 20,
   "outputs": [],
   "source": [
    "DATA_FOLDER = '/home/artem/dataset_gdb17'\n",
    "SAMPLE_SIZE = 1000  #<-- data set size\n",
    "MOL_SIZE_OF_INTEREST = 17  # number of atoms\n",
    "#DATA_FILE_NAME = 'GDB17.50000000.smi'\n",
    "DATA_FILE_NAME = str(MOL_SIZE_OF_INTEREST) + '.smi'\n",
    "DATA_PATH =  DATA_FOLDER + '/' + str(SAMPLE_SIZE) + '/' + DATA_FILE_NAME"
   ],
   "metadata": {
    "collapsed": false,
    "pycharm": {
     "name": "#%%\n"
    }
   }
  },
  {
   "cell_type": "code",
   "execution_count": 21,
   "metadata": {
    "collapsed": true,
    "pycharm": {
     "name": "#%%\n"
    }
   },
   "outputs": [],
   "source": [
    "#example of k means for 1000 mols of the molecules with a size of 17"
   ]
  },
  {
   "cell_type": "markdown",
   "source": [
    "## DATA"
   ],
   "metadata": {
    "collapsed": false
   }
  },
  {
   "cell_type": "code",
   "execution_count": 22,
   "outputs": [
    {
     "data": {
      "text/plain": "'/home/artem/dataset_gdb17/1000/17.smi'"
     },
     "execution_count": 22,
     "metadata": {},
     "output_type": "execute_result"
    }
   ],
   "source": [
    "DATA_PATH"
   ],
   "metadata": {
    "collapsed": false,
    "pycharm": {
     "name": "#%%\n"
    }
   }
  },
  {
   "cell_type": "markdown",
   "source": [
    "## LOAD DATA\n"
   ],
   "metadata": {
    "collapsed": false,
    "pycharm": {
     "name": "#%% md\n"
    }
   }
  },
  {
   "cell_type": "code",
   "execution_count": 23,
   "outputs": [
    {
     "data": {
      "text/plain": "['CCCC(C)OC(C=O)C(=O)C(C)(C)CCO',\n 'CCc1cc(COCCC(N)=O)ncnc1=O',\n 'CC(O)C1Oc2c(N)c(N)c(N)c(C#N)c2O1']"
     },
     "execution_count": 23,
     "metadata": {},
     "output_type": "execute_result"
    }
   ],
   "source": [
    "suppl = Chem.SmilesMolSupplier(DATA_PATH)\n",
    "smiles_list = [Chem.MolToSmiles(m) for m in suppl]\n",
    "smiles_list[0:3]\n",
    "# smiles_list is our raw data. now we need to convert them into some representation"
   ],
   "metadata": {
    "collapsed": false,
    "pycharm": {
     "name": "#%%\n"
    }
   }
  },
  {
   "cell_type": "markdown",
   "source": [
    "## GET FEATURES FOR EVERY MOLECULE\n"
   ],
   "metadata": {
    "collapsed": false,
    "pycharm": {
     "name": "#%% md\n"
    }
   }
  },
  {
   "cell_type": "code",
   "execution_count": 24,
   "outputs": [],
   "source": [
    "features = [Chem.RDKFingerprint(m) for m in suppl]"
   ],
   "metadata": {
    "collapsed": false,
    "pycharm": {
     "name": "#%%\n"
    }
   }
  },
  {
   "cell_type": "code",
   "execution_count": 25,
   "outputs": [],
   "source": [
    "fp_array = np.array([[int(i) for i in Chem.RDKFingerprint(m).ToBitString()] for m in suppl], dtype=int)"
   ],
   "metadata": {
    "collapsed": false,
    "pycharm": {
     "name": "#%%\n"
    }
   }
  },
  {
   "cell_type": "code",
   "execution_count": 26,
   "outputs": [
    {
     "data": {
      "text/plain": "array([[0, 0, 0, ..., 0, 0, 0],\n       [1, 0, 0, ..., 0, 0, 1],\n       [0, 0, 0, ..., 0, 1, 1],\n       ...,\n       [0, 0, 1, ..., 0, 0, 1],\n       [1, 1, 1, ..., 0, 1, 1],\n       [0, 0, 1, ..., 0, 1, 1]])"
     },
     "execution_count": 26,
     "metadata": {},
     "output_type": "execute_result"
    }
   ],
   "source": [
    "fp_array\n"
   ],
   "metadata": {
    "collapsed": false,
    "pycharm": {
     "name": "#%%\n"
    }
   }
  },
  {
   "cell_type": "code",
   "execution_count": 31,
   "outputs": [],
   "source": [
    "kmeans = KMeans(n_clusters=100).fit(X=fp_array)"
   ],
   "metadata": {
    "collapsed": false,
    "pycharm": {
     "name": "#%%\n"
    }
   }
  },
  {
   "cell_type": "code",
   "execution_count": 38,
   "outputs": [
    {
     "data": {
      "text/plain": "array([[ 1.00000000e+00,  0.00000000e+00,  0.00000000e+00, ...,\n         0.00000000e+00,  0.00000000e+00,  1.00000000e+00],\n       [ 6.00000000e-01,  0.00000000e+00, -5.55111512e-17, ...,\n         0.00000000e+00,  0.00000000e+00, -1.11022302e-16],\n       [ 3.33333333e-01,  9.52380952e-02,  3.80952381e-01, ...,\n         4.76190476e-02,  2.85714286e-01,  1.00000000e+00],\n       ...,\n       [ 2.85714286e-01,  1.42857143e-01,  5.00000000e-01, ...,\n         0.00000000e+00,  2.85714286e-01,  1.00000000e+00],\n       [ 0.00000000e+00,  5.00000000e-01,  1.00000000e+00, ...,\n         1.00000000e+00,  1.00000000e+00,  1.00000000e+00],\n       [ 1.00000000e+00,  1.00000000e+00,  0.00000000e+00, ...,\n         1.00000000e+00,  0.00000000e+00,  1.00000000e+00]])"
     },
     "execution_count": 38,
     "metadata": {},
     "output_type": "execute_result"
    }
   ],
   "source": [
    "kmeans.labels_\n",
    "\n",
    "kmeans.cluster_centers_"
   ],
   "metadata": {
    "collapsed": false,
    "pycharm": {
     "name": "#%%\n"
    }
   }
  },
  {
   "cell_type": "code",
   "execution_count": 35,
   "outputs": [],
   "source": [
    "for cluster_center in kmeans.cluster_centers_:\n",
    "\n",
    "\n",
    "# the_closest_cluster = kmeans.predict(X=fp_array)"
   ],
   "metadata": {
    "collapsed": false,
    "pycharm": {
     "name": "#%% return closest to the center\n"
    }
   }
  },
  {
   "cell_type": "code",
   "execution_count": 37,
   "outputs": [],
   "source": [
    "# centers_and_index = kmeans.fit_predict(X=fp_array)"
   ],
   "metadata": {
    "collapsed": false,
    "pycharm": {
     "name": "#%%\n"
    }
   }
  },
  {
   "cell_type": "code",
   "execution_count": null,
   "outputs": [],
   "source": [],
   "metadata": {
    "collapsed": false,
    "pycharm": {
     "name": "#%%\n"
    }
   }
  }
 ],
 "metadata": {
  "kernelspec": {
   "name": "my-rdkit-env-new",
   "language": "python",
   "display_name": "my-rdkit-env-new"
  },
  "language_info": {
   "codemirror_mode": {
    "name": "ipython",
    "version": 2
   },
   "file_extension": ".py",
   "mimetype": "text/x-python",
   "name": "python",
   "nbconvert_exporter": "python",
   "pygments_lexer": "ipython2",
   "version": "2.7.6"
  }
 },
 "nbformat": 4,
 "nbformat_minor": 0
}